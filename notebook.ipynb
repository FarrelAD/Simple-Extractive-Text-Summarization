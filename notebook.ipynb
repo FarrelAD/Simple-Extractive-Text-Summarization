{
 "cells": [
  {
   "cell_type": "markdown",
   "id": "9e8f6ead",
   "metadata": {
    "papermill": {
     "duration": 0.003168,
     "end_time": "2025-01-30T12:00:10.699720",
     "exception": false,
     "start_time": "2025-01-30T12:00:10.696552",
     "status": "completed"
    },
    "tags": []
   },
   "source": [
    "# Simple Text Summarization Model"
   ]
  },
  {
   "cell_type": "markdown",
   "id": "8a53cb7f",
   "metadata": {
    "papermill": {
     "duration": 0.002272,
     "end_time": "2025-01-30T12:00:10.704931",
     "exception": false,
     "start_time": "2025-01-30T12:00:10.702659",
     "status": "completed"
    },
    "tags": []
   },
   "source": [
    "## Install necessary dependency"
   ]
  },
  {
   "cell_type": "code",
   "execution_count": 1,
   "id": "263a1de7",
   "metadata": {
    "execution": {
     "iopub.execute_input": "2025-01-30T12:00:10.711228Z",
     "iopub.status.busy": "2025-01-30T12:00:10.710877Z",
     "iopub.status.idle": "2025-01-30T12:00:15.870727Z",
     "shell.execute_reply": "2025-01-30T12:00:15.869463Z"
    },
    "papermill": {
     "duration": 5.165886,
     "end_time": "2025-01-30T12:00:15.873271",
     "exception": false,
     "start_time": "2025-01-30T12:00:10.707385",
     "status": "completed"
    },
    "tags": []
   },
   "outputs": [],
   "source": [
    "!pip install scikit-learn nltk --quiet"
   ]
  },
  {
   "cell_type": "code",
   "execution_count": 2,
   "id": "308943b5",
   "metadata": {
    "_cell_guid": "b1076dfc-b9ad-4769-8c92-a6c4dae69d19",
    "_uuid": "8f2839f25d086af736a60e9eeb907d3b93b6e0e5",
    "execution": {
     "iopub.execute_input": "2025-01-30T12:00:15.880216Z",
     "iopub.status.busy": "2025-01-30T12:00:15.879873Z",
     "iopub.status.idle": "2025-01-30T12:00:18.010659Z",
     "shell.execute_reply": "2025-01-30T12:00:18.009623Z"
    },
    "papermill": {
     "duration": 2.136373,
     "end_time": "2025-01-30T12:00:18.012656",
     "exception": false,
     "start_time": "2025-01-30T12:00:15.876283",
     "status": "completed"
    },
    "tags": []
   },
   "outputs": [],
   "source": [
    "import nltk\n",
    "from sklearn.feature_extraction.text import TfidfVectorizer\n",
    "from sklearn.metrics.pairwise import cosine_similarity\n",
    "import heapq"
   ]
  },
  {
   "cell_type": "markdown",
   "id": "8ce60f17",
   "metadata": {
    "papermill": {
     "duration": 0.002235,
     "end_time": "2025-01-30T12:00:18.017616",
     "exception": false,
     "start_time": "2025-01-30T12:00:18.015381",
     "status": "completed"
    },
    "tags": []
   },
   "source": [
    "## Text Preprocessing"
   ]
  },
  {
   "cell_type": "code",
   "execution_count": 3,
   "id": "82cdf23f",
   "metadata": {
    "execution": {
     "iopub.execute_input": "2025-01-30T12:00:18.023846Z",
     "iopub.status.busy": "2025-01-30T12:00:18.023343Z",
     "iopub.status.idle": "2025-01-30T12:00:18.196499Z",
     "shell.execute_reply": "2025-01-30T12:00:18.195220Z"
    },
    "papermill": {
     "duration": 0.178219,
     "end_time": "2025-01-30T12:00:18.198265",
     "exception": false,
     "start_time": "2025-01-30T12:00:18.020046",
     "status": "completed"
    },
    "tags": []
   },
   "outputs": [
    {
     "name": "stdout",
     "output_type": "stream",
     "text": [
      "[nltk_data] Downloading package punkt to /usr/share/nltk_data...\n",
      "[nltk_data]   Package punkt is already up-to-date!\n",
      "[nltk_data] Downloading package stopwords to /usr/share/nltk_data...\n",
      "[nltk_data]   Package stopwords is already up-to-date!\n"
     ]
    }
   ],
   "source": [
    "nltk.download('punkt')\n",
    "nltk.download('stopwords')\n",
    "from nltk.corpus import stopwords\n",
    "from nltk.tokenize import sent_tokenize, word_tokenize\n",
    "\n",
    "def preprocess_text(text):\n",
    "    stop_words = set(stopwords.words('english'))\n",
    "    sentences = sent_tokenize(text)\n",
    "    clean_sentences = []\n",
    "    \n",
    "    for sentence in sentences:\n",
    "        words = word_tokenize(sentence.lower())\n",
    "        clean_words = [word for word in words if word.isalnum() and word not in stop_words]\n",
    "        clean_sentences.append(\" \".join(clean_words))\n",
    "        \n",
    "    return clean_sentences, sentences"
   ]
  },
  {
   "cell_type": "markdown",
   "id": "1a32d507",
   "metadata": {
    "papermill": {
     "duration": 0.00246,
     "end_time": "2025-01-30T12:00:18.203750",
     "exception": false,
     "start_time": "2025-01-30T12:00:18.201290",
     "status": "completed"
    },
    "tags": []
   },
   "source": [
    "## TF-IDF Vectorization and Sentence Similarity"
   ]
  },
  {
   "cell_type": "code",
   "execution_count": 4,
   "id": "177fc224",
   "metadata": {
    "execution": {
     "iopub.execute_input": "2025-01-30T12:00:18.209919Z",
     "iopub.status.busy": "2025-01-30T12:00:18.209519Z",
     "iopub.status.idle": "2025-01-30T12:00:18.214868Z",
     "shell.execute_reply": "2025-01-30T12:00:18.213994Z"
    },
    "papermill": {
     "duration": 0.010117,
     "end_time": "2025-01-30T12:00:18.216383",
     "exception": false,
     "start_time": "2025-01-30T12:00:18.206266",
     "status": "completed"
    },
    "tags": []
   },
   "outputs": [],
   "source": [
    "def summarize_text(text, num_sentences=3):\n",
    "    clean_sentences, original_sentences = preprocess_text(text)\n",
    "    \n",
    "    tfidf_vectorizer = TfidfVectorizer()\n",
    "    tfidf_matrix = tfidf_vectorizer.fit_transform(clean_sentences)\n",
    "    \n",
    "    cosine_similarities = cosine_similarity(tfidf_matrix, tfidf_matrix)\n",
    "    \n",
    "    sentence_scores = cosine_similarities.sum(axis=1)\n",
    "    \n",
    "    top_sentence_indices = heapq.nlargest(num_sentences, range(len(sentence_scores)), key=sentence_scores.take)\n",
    "    \n",
    "    summary = [original_sentences[i] for i in sorted(top_sentence_indices)]\n",
    "    \n",
    "    return \" \".join(summary)"
   ]
  },
  {
   "cell_type": "markdown",
   "id": "25b8f624",
   "metadata": {
    "papermill": {
     "duration": 0.002282,
     "end_time": "2025-01-30T12:00:18.221341",
     "exception": false,
     "start_time": "2025-01-30T12:00:18.219059",
     "status": "completed"
    },
    "tags": []
   },
   "source": [
    "## Testing\n",
    "You can try interactive testing below with `ipywidgets`. You can input any sentences in any languages to get your summarization."
   ]
  },
  {
   "cell_type": "code",
   "execution_count": 5,
   "id": "94260302",
   "metadata": {
    "execution": {
     "iopub.execute_input": "2025-01-30T12:00:18.227388Z",
     "iopub.status.busy": "2025-01-30T12:00:18.227081Z",
     "iopub.status.idle": "2025-01-30T12:00:18.391972Z",
     "shell.execute_reply": "2025-01-30T12:00:18.390995Z"
    },
    "papermill": {
     "duration": 0.171425,
     "end_time": "2025-01-30T12:00:18.395254",
     "exception": false,
     "start_time": "2025-01-30T12:00:18.223829",
     "status": "completed"
    },
    "tags": []
   },
   "outputs": [
    {
     "data": {
      "application/vnd.jupyter.widget-view+json": {
       "model_id": "4955de76f2d445bf8f3c2dcfc85bba24",
       "version_major": 2,
       "version_minor": 0
      },
      "text/plain": [
       "VBox(children=(Textarea(value='', description='Input text:', layout=Layout(height='200px', width='500px'), pla…"
      ]
     },
     "execution_count": 5,
     "metadata": {},
     "output_type": "execute_result"
    }
   ],
   "source": [
    "import ipywidgets as widgets\n",
    "\n",
    "output = widgets.Output()\n",
    "\n",
    "text_input = widgets.Textarea(\n",
    "    value='',\n",
    "    placeholder='Type something...',\n",
    "    description='Input text:',\n",
    "    disabled=False,\n",
    "    layout=widgets.Layout(width='500px', height='200px')\n",
    ")\n",
    "\n",
    "num_sentences_input = widgets.IntText(\n",
    "    value=0,\n",
    "    description='Total sentences:',\n",
    "    disabled=False\n",
    ")\n",
    "\n",
    "submit_btn = widgets.Button(\n",
    "    description='Submit',\n",
    "    button_style='info'\n",
    ")\n",
    "\n",
    "def process_input(_):\n",
    "    text = text_input.value\n",
    "    total_sentences = num_sentences_input.value\n",
    "\n",
    "    with output:\n",
    "        output.clear_output()\n",
    "        print(summarize_text(text, num_sentences=total_sentences))\n",
    "\n",
    "submit_btn.on_click(process_input)\n",
    "\n",
    "layout = widgets.VBox([\n",
    "    text_input,\n",
    "    num_sentences_input,\n",
    "    submit_btn,\n",
    "    output\n",
    "])\n",
    "\n",
    "layout"
   ]
  }
 ],
 "metadata": {
  "kaggle": {
   "accelerator": "none",
   "dataSources": [],
   "dockerImageVersionId": 30839,
   "isGpuEnabled": false,
   "isInternetEnabled": true,
   "language": "python",
   "sourceType": "notebook"
  },
  "kernelspec": {
   "display_name": "Python 3",
   "language": "python",
   "name": "python3"
  },
  "language_info": {
   "codemirror_mode": {
    "name": "ipython",
    "version": 3
   },
   "file_extension": ".py",
   "mimetype": "text/x-python",
   "name": "python",
   "nbconvert_exporter": "python",
   "pygments_lexer": "ipython3",
   "version": "3.10.12"
  },
  "papermill": {
   "default_parameters": {},
   "duration": 10.964638,
   "end_time": "2025-01-30T12:00:19.018290",
   "environment_variables": {},
   "exception": null,
   "input_path": "__notebook__.ipynb",
   "output_path": "__notebook__.ipynb",
   "parameters": {},
   "start_time": "2025-01-30T12:00:08.053652",
   "version": "2.6.0"
  },
  "widgets": {
   "application/vnd.jupyter.widget-state+json": {
    "state": {
     "033f04c3a9674e3eb5fbb3ab60dec9ee": {
      "model_module": "@jupyter-widgets/base",
      "model_module_version": "2.0.0",
      "model_name": "LayoutModel",
      "state": {
       "_model_module": "@jupyter-widgets/base",
       "_model_module_version": "2.0.0",
       "_model_name": "LayoutModel",
       "_view_count": null,
       "_view_module": "@jupyter-widgets/base",
       "_view_module_version": "2.0.0",
       "_view_name": "LayoutView",
       "align_content": null,
       "align_items": null,
       "align_self": null,
       "border_bottom": null,
       "border_left": null,
       "border_right": null,
       "border_top": null,
       "bottom": null,
       "display": null,
       "flex": null,
       "flex_flow": null,
       "grid_area": null,
       "grid_auto_columns": null,
       "grid_auto_flow": null,
       "grid_auto_rows": null,
       "grid_column": null,
       "grid_gap": null,
       "grid_row": null,
       "grid_template_areas": null,
       "grid_template_columns": null,
       "grid_template_rows": null,
       "height": null,
       "justify_content": null,
       "justify_items": null,
       "left": null,
       "margin": null,
       "max_height": null,
       "max_width": null,
       "min_height": null,
       "min_width": null,
       "object_fit": null,
       "object_position": null,
       "order": null,
       "overflow": null,
       "padding": null,
       "right": null,
       "top": null,
       "visibility": null,
       "width": null
      }
     },
     "1592cdc1b9e04eb8a939cace97ab0aac": {
      "model_module": "@jupyter-widgets/controls",
      "model_module_version": "2.0.0",
      "model_name": "TextStyleModel",
      "state": {
       "_model_module": "@jupyter-widgets/controls",
       "_model_module_version": "2.0.0",
       "_model_name": "TextStyleModel",
       "_view_count": null,
       "_view_module": "@jupyter-widgets/base",
       "_view_module_version": "2.0.0",
       "_view_name": "StyleView",
       "background": null,
       "description_width": "",
       "font_size": null,
       "text_color": null
      }
     },
     "1c8c15ed67a640edb803c0c19a839815": {
      "model_module": "@jupyter-widgets/base",
      "model_module_version": "2.0.0",
      "model_name": "LayoutModel",
      "state": {
       "_model_module": "@jupyter-widgets/base",
       "_model_module_version": "2.0.0",
       "_model_name": "LayoutModel",
       "_view_count": null,
       "_view_module": "@jupyter-widgets/base",
       "_view_module_version": "2.0.0",
       "_view_name": "LayoutView",
       "align_content": null,
       "align_items": null,
       "align_self": null,
       "border_bottom": null,
       "border_left": null,
       "border_right": null,
       "border_top": null,
       "bottom": null,
       "display": null,
       "flex": null,
       "flex_flow": null,
       "grid_area": null,
       "grid_auto_columns": null,
       "grid_auto_flow": null,
       "grid_auto_rows": null,
       "grid_column": null,
       "grid_gap": null,
       "grid_row": null,
       "grid_template_areas": null,
       "grid_template_columns": null,
       "grid_template_rows": null,
       "height": "200px",
       "justify_content": null,
       "justify_items": null,
       "left": null,
       "margin": null,
       "max_height": null,
       "max_width": null,
       "min_height": null,
       "min_width": null,
       "object_fit": null,
       "object_position": null,
       "order": null,
       "overflow": null,
       "padding": null,
       "right": null,
       "top": null,
       "visibility": null,
       "width": "500px"
      }
     },
     "1d1e49da39e44fec92a71c9e5d11c700": {
      "model_module": "@jupyter-widgets/controls",
      "model_module_version": "2.0.0",
      "model_name": "ButtonStyleModel",
      "state": {
       "_model_module": "@jupyter-widgets/controls",
       "_model_module_version": "2.0.0",
       "_model_name": "ButtonStyleModel",
       "_view_count": null,
       "_view_module": "@jupyter-widgets/base",
       "_view_module_version": "2.0.0",
       "_view_name": "StyleView",
       "button_color": null,
       "font_family": null,
       "font_size": null,
       "font_style": null,
       "font_variant": null,
       "font_weight": null,
       "text_color": null,
       "text_decoration": null
      }
     },
     "28f7d23938ed435e9de9cd58d4f26c21": {
      "model_module": "@jupyter-widgets/controls",
      "model_module_version": "2.0.0",
      "model_name": "IntTextModel",
      "state": {
       "_dom_classes": [],
       "_model_module": "@jupyter-widgets/controls",
       "_model_module_version": "2.0.0",
       "_model_name": "IntTextModel",
       "_view_count": null,
       "_view_module": "@jupyter-widgets/controls",
       "_view_module_version": "2.0.0",
       "_view_name": "IntTextView",
       "continuous_update": false,
       "description": "Total sentences:",
       "description_allow_html": false,
       "disabled": false,
       "layout": "IPY_MODEL_033f04c3a9674e3eb5fbb3ab60dec9ee",
       "step": 1,
       "style": "IPY_MODEL_3438e404fc9a4a68a389801b6333f757",
       "tabbable": null,
       "tooltip": null,
       "value": 0
      }
     },
     "3438e404fc9a4a68a389801b6333f757": {
      "model_module": "@jupyter-widgets/controls",
      "model_module_version": "2.0.0",
      "model_name": "DescriptionStyleModel",
      "state": {
       "_model_module": "@jupyter-widgets/controls",
       "_model_module_version": "2.0.0",
       "_model_name": "DescriptionStyleModel",
       "_view_count": null,
       "_view_module": "@jupyter-widgets/base",
       "_view_module_version": "2.0.0",
       "_view_name": "StyleView",
       "description_width": ""
      }
     },
     "44cf1061e2e143268ebc3c50a257f6f1": {
      "model_module": "@jupyter-widgets/base",
      "model_module_version": "2.0.0",
      "model_name": "LayoutModel",
      "state": {
       "_model_module": "@jupyter-widgets/base",
       "_model_module_version": "2.0.0",
       "_model_name": "LayoutModel",
       "_view_count": null,
       "_view_module": "@jupyter-widgets/base",
       "_view_module_version": "2.0.0",
       "_view_name": "LayoutView",
       "align_content": null,
       "align_items": null,
       "align_self": null,
       "border_bottom": null,
       "border_left": null,
       "border_right": null,
       "border_top": null,
       "bottom": null,
       "display": null,
       "flex": null,
       "flex_flow": null,
       "grid_area": null,
       "grid_auto_columns": null,
       "grid_auto_flow": null,
       "grid_auto_rows": null,
       "grid_column": null,
       "grid_gap": null,
       "grid_row": null,
       "grid_template_areas": null,
       "grid_template_columns": null,
       "grid_template_rows": null,
       "height": null,
       "justify_content": null,
       "justify_items": null,
       "left": null,
       "margin": null,
       "max_height": null,
       "max_width": null,
       "min_height": null,
       "min_width": null,
       "object_fit": null,
       "object_position": null,
       "order": null,
       "overflow": null,
       "padding": null,
       "right": null,
       "top": null,
       "visibility": null,
       "width": null
      }
     },
     "4955de76f2d445bf8f3c2dcfc85bba24": {
      "model_module": "@jupyter-widgets/controls",
      "model_module_version": "2.0.0",
      "model_name": "VBoxModel",
      "state": {
       "_dom_classes": [],
       "_model_module": "@jupyter-widgets/controls",
       "_model_module_version": "2.0.0",
       "_model_name": "VBoxModel",
       "_view_count": null,
       "_view_module": "@jupyter-widgets/controls",
       "_view_module_version": "2.0.0",
       "_view_name": "VBoxView",
       "box_style": "",
       "children": [
        "IPY_MODEL_f8ae8ccc213245ae8a668abcf8aec561",
        "IPY_MODEL_28f7d23938ed435e9de9cd58d4f26c21",
        "IPY_MODEL_565f9199cb8445bbb299bcebe115014e",
        "IPY_MODEL_9c49778c46d8475688428a3f7ba1b1cc"
       ],
       "layout": "IPY_MODEL_6402027d527047f58dda2a1bef74a062",
       "tabbable": null,
       "tooltip": null
      }
     },
     "565f9199cb8445bbb299bcebe115014e": {
      "model_module": "@jupyter-widgets/controls",
      "model_module_version": "2.0.0",
      "model_name": "ButtonModel",
      "state": {
       "_dom_classes": [],
       "_model_module": "@jupyter-widgets/controls",
       "_model_module_version": "2.0.0",
       "_model_name": "ButtonModel",
       "_view_count": null,
       "_view_module": "@jupyter-widgets/controls",
       "_view_module_version": "2.0.0",
       "_view_name": "ButtonView",
       "button_style": "info",
       "description": "Submit",
       "disabled": false,
       "icon": "",
       "layout": "IPY_MODEL_44cf1061e2e143268ebc3c50a257f6f1",
       "style": "IPY_MODEL_1d1e49da39e44fec92a71c9e5d11c700",
       "tabbable": null,
       "tooltip": null
      }
     },
     "56e385819f0248d59f4fa2a2ac97b50a": {
      "model_module": "@jupyter-widgets/base",
      "model_module_version": "2.0.0",
      "model_name": "LayoutModel",
      "state": {
       "_model_module": "@jupyter-widgets/base",
       "_model_module_version": "2.0.0",
       "_model_name": "LayoutModel",
       "_view_count": null,
       "_view_module": "@jupyter-widgets/base",
       "_view_module_version": "2.0.0",
       "_view_name": "LayoutView",
       "align_content": null,
       "align_items": null,
       "align_self": null,
       "border_bottom": null,
       "border_left": null,
       "border_right": null,
       "border_top": null,
       "bottom": null,
       "display": null,
       "flex": null,
       "flex_flow": null,
       "grid_area": null,
       "grid_auto_columns": null,
       "grid_auto_flow": null,
       "grid_auto_rows": null,
       "grid_column": null,
       "grid_gap": null,
       "grid_row": null,
       "grid_template_areas": null,
       "grid_template_columns": null,
       "grid_template_rows": null,
       "height": null,
       "justify_content": null,
       "justify_items": null,
       "left": null,
       "margin": null,
       "max_height": null,
       "max_width": null,
       "min_height": null,
       "min_width": null,
       "object_fit": null,
       "object_position": null,
       "order": null,
       "overflow": null,
       "padding": null,
       "right": null,
       "top": null,
       "visibility": null,
       "width": null
      }
     },
     "6402027d527047f58dda2a1bef74a062": {
      "model_module": "@jupyter-widgets/base",
      "model_module_version": "2.0.0",
      "model_name": "LayoutModel",
      "state": {
       "_model_module": "@jupyter-widgets/base",
       "_model_module_version": "2.0.0",
       "_model_name": "LayoutModel",
       "_view_count": null,
       "_view_module": "@jupyter-widgets/base",
       "_view_module_version": "2.0.0",
       "_view_name": "LayoutView",
       "align_content": null,
       "align_items": null,
       "align_self": null,
       "border_bottom": null,
       "border_left": null,
       "border_right": null,
       "border_top": null,
       "bottom": null,
       "display": null,
       "flex": null,
       "flex_flow": null,
       "grid_area": null,
       "grid_auto_columns": null,
       "grid_auto_flow": null,
       "grid_auto_rows": null,
       "grid_column": null,
       "grid_gap": null,
       "grid_row": null,
       "grid_template_areas": null,
       "grid_template_columns": null,
       "grid_template_rows": null,
       "height": null,
       "justify_content": null,
       "justify_items": null,
       "left": null,
       "margin": null,
       "max_height": null,
       "max_width": null,
       "min_height": null,
       "min_width": null,
       "object_fit": null,
       "object_position": null,
       "order": null,
       "overflow": null,
       "padding": null,
       "right": null,
       "top": null,
       "visibility": null,
       "width": null
      }
     },
     "9c49778c46d8475688428a3f7ba1b1cc": {
      "model_module": "@jupyter-widgets/output",
      "model_module_version": "1.0.0",
      "model_name": "OutputModel",
      "state": {
       "_dom_classes": [],
       "_model_module": "@jupyter-widgets/output",
       "_model_module_version": "1.0.0",
       "_model_name": "OutputModel",
       "_view_count": null,
       "_view_module": "@jupyter-widgets/output",
       "_view_module_version": "1.0.0",
       "_view_name": "OutputView",
       "layout": "IPY_MODEL_56e385819f0248d59f4fa2a2ac97b50a",
       "msg_id": "",
       "outputs": [],
       "tabbable": null,
       "tooltip": null
      }
     },
     "f8ae8ccc213245ae8a668abcf8aec561": {
      "model_module": "@jupyter-widgets/controls",
      "model_module_version": "2.0.0",
      "model_name": "TextareaModel",
      "state": {
       "_dom_classes": [],
       "_model_module": "@jupyter-widgets/controls",
       "_model_module_version": "2.0.0",
       "_model_name": "TextareaModel",
       "_view_count": null,
       "_view_module": "@jupyter-widgets/controls",
       "_view_module_version": "2.0.0",
       "_view_name": "TextareaView",
       "continuous_update": true,
       "description": "Input text:",
       "description_allow_html": false,
       "disabled": false,
       "layout": "IPY_MODEL_1c8c15ed67a640edb803c0c19a839815",
       "placeholder": "Type something...",
       "rows": null,
       "style": "IPY_MODEL_1592cdc1b9e04eb8a939cace97ab0aac",
       "tabbable": null,
       "tooltip": null,
       "value": ""
      }
     }
    },
    "version_major": 2,
    "version_minor": 0
   }
  }
 },
 "nbformat": 4,
 "nbformat_minor": 5
}
